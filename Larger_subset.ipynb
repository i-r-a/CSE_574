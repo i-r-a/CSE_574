{
  "nbformat": 4,
  "nbformat_minor": 0,
  "metadata": {
    "colab": {
      "name": "Larger_subset.ipynb",
      "provenance": [],
      "machine_shape": "hm",
      "authorship_tag": "ABX9TyPaEc2WoLPoLQ1JL43KnbzF",
      "include_colab_link": true
    },
    "kernelspec": {
      "name": "python3",
      "display_name": "Python 3"
    }
  },
  "cells": [
    {
      "cell_type": "markdown",
      "metadata": {
        "id": "view-in-github",
        "colab_type": "text"
      },
      "source": [
        "<a href=\"https://colab.research.google.com/github/i-r-a/CSE_574/blob/master/Larger_subset.ipynb\" target=\"_parent\"><img src=\"https://colab.research.google.com/assets/colab-badge.svg\" alt=\"Open In Colab\"/></a>"
      ]
    },
    {
      "cell_type": "markdown",
      "metadata": {
        "id": "qf6H3yo2J-gx",
        "colab_type": "text"
      },
      "source": [
        "Subset containing Balloon Flower, Pink Primrose, Common Dandelion, King Protea, Bird of Paradise\n"
      ]
    },
    {
      "cell_type": "code",
      "metadata": {
        "id": "bqa76gXDJg58",
        "colab_type": "code",
        "colab": {}
      },
      "source": [
        "import os\n",
        "\n",
        "import matplotlib as mpl\n",
        "import matplotlib.pyplot as plt\n",
        "from IPython.display import display\n",
        "%matplotlib inline\n",
        "\n",
        "import pandas as pd\n",
        "import numpy as np\n",
        "\n",
        "from PIL import Image\n",
        "\n",
        "from skimage.feature import hog\n",
        "from skimage.color import rgb2grey\n",
        "\n",
        "from sklearn.model_selection import train_test_split\n",
        "from sklearn.metrics import accuracy_score\n",
        "from sklearn.preprocessing import StandardScaler\n",
        "from sklearn.decomposition import PCA\n",
        "from sklearn.svm import SVC\n",
        "\n",
        "from sklearn.metrics import roc_curve, auc"
      ],
      "execution_count": 0,
      "outputs": []
    },
    {
      "cell_type": "code",
      "metadata": {
        "id": "dxQBzUxcJiz_",
        "colab_type": "code",
        "outputId": "c9ab753a-463a-4db6-bb44-2fd59b379340",
        "colab": {
          "base_uri": "https://localhost:8080/",
          "height": 34
        }
      },
      "source": [
        "from google.colab import drive\n",
        "drive.mount('/content/drive')"
      ],
      "execution_count": 2,
      "outputs": [
        {
          "output_type": "stream",
          "text": [
            "Drive already mounted at /content/drive; to attempt to forcibly remount, call drive.mount(\"/content/drive\", force_remount=True).\n"
          ],
          "name": "stdout"
        }
      ]
    },
    {
      "cell_type": "code",
      "metadata": {
        "id": "CLW7Lil7Kb4a",
        "colab_type": "code",
        "colab": {}
      },
      "source": [
        "import io\n",
        "labels = pd.read_csv('drive/My Drive/fleur/fleur_set.csv')"
      ],
      "execution_count": 0,
      "outputs": []
    },
    {
      "cell_type": "code",
      "metadata": {
        "id": "NCzqw7-TL-CW",
        "colab_type": "code",
        "outputId": "43877cba-8624-4463-9b9f-a016c8b1904c",
        "colab": {
          "base_uri": "https://localhost:8080/",
          "height": 204
        }
      },
      "source": [
        "labels.tail()"
      ],
      "execution_count": 4,
      "outputs": [
        {
          "output_type": "execute_result",
          "data": {
            "text/html": [
              "<div>\n",
              "<style scoped>\n",
              "    .dataframe tbody tr th:only-of-type {\n",
              "        vertical-align: middle;\n",
              "    }\n",
              "\n",
              "    .dataframe tbody tr th {\n",
              "        vertical-align: top;\n",
              "    }\n",
              "\n",
              "    .dataframe thead th {\n",
              "        text-align: right;\n",
              "    }\n",
              "</style>\n",
              "<table border=\"1\" class=\"dataframe\">\n",
              "  <thead>\n",
              "    <tr style=\"text-align: right;\">\n",
              "      <th></th>\n",
              "      <th>file</th>\n",
              "      <th>species</th>\n",
              "    </tr>\n",
              "  </thead>\n",
              "  <tbody>\n",
              "    <tr>\n",
              "      <th>630</th>\n",
              "      <td>982.jpg</td>\n",
              "      <td>Pink_Primrose</td>\n",
              "    </tr>\n",
              "    <tr>\n",
              "      <th>631</th>\n",
              "      <td>9859.jpg</td>\n",
              "      <td>Pink_Primrose</td>\n",
              "    </tr>\n",
              "    <tr>\n",
              "      <th>632</th>\n",
              "      <td>9896.jpg</td>\n",
              "      <td>Pink_Primrose</td>\n",
              "    </tr>\n",
              "    <tr>\n",
              "      <th>633</th>\n",
              "      <td>9913.jpg</td>\n",
              "      <td>Pink_Primrose</td>\n",
              "    </tr>\n",
              "    <tr>\n",
              "      <th>634</th>\n",
              "      <td>9963.jpg</td>\n",
              "      <td>Pink_Primrose</td>\n",
              "    </tr>\n",
              "  </tbody>\n",
              "</table>\n",
              "</div>"
            ],
            "text/plain": [
              "         file        species\n",
              "630   982.jpg  Pink_Primrose\n",
              "631  9859.jpg  Pink_Primrose\n",
              "632  9896.jpg  Pink_Primrose\n",
              "633  9913.jpg  Pink_Primrose\n",
              "634  9963.jpg  Pink_Primrose"
            ]
          },
          "metadata": {
            "tags": []
          },
          "execution_count": 4
        }
      ]
    },
    {
      "cell_type": "code",
      "metadata": {
        "id": "KJo6aUb0MArd",
        "colab_type": "code",
        "colab": {}
      },
      "source": [
        "def get_image(row_id, root=\"drive/My Drive/fleur/\"):\n",
        "    \"\"\"\n",
        "    Converts an image number into the file path where the image is located, \n",
        "    opens the image, and returns the image as a numpy array.\n",
        "    \"\"\"\n",
        "    filename = \"{}\".format(row_id)\n",
        "    file_path = os.path.join(root, filename)\n",
        "    img = Image.open(file_path)\n",
        "    return np.array(img)"
      ],
      "execution_count": 0,
      "outputs": []
    },
    {
      "cell_type": "code",
      "metadata": {
        "id": "cbwrzZhAM7ml",
        "colab_type": "code",
        "colab": {}
      },
      "source": [
        "def create_features(img):\n",
        "    # flatten three channel color image\n",
        "    color_features = img.flatten()\n",
        "    # convert image to greyscale\n",
        "    grey_image = rgb2grey(img)\n",
        "    # get HOG features from greyscale image\n",
        "    hog_features = hog(grey_image, block_norm='L2-Hys', pixels_per_cell=(16, 16))\n",
        "    # combine color and hog features into a single array\n",
        "    flat_features = np.hstack(color_features)\n",
        "    return flat_features"
      ],
      "execution_count": 0,
      "outputs": []
    },
    {
      "cell_type": "code",
      "metadata": {
        "id": "4-xqG6v0NYjc",
        "colab_type": "code",
        "colab": {}
      },
      "source": [
        "def create_feature_matrix(label_dataframe):\n",
        "    features_list = []\n",
        "    \n",
        "    for img_id in label_dataframe.file:\n",
        "        # load image\n",
        "        \n",
        "        img = get_image(img_id)\n",
        "        # get features for image\n",
        "        image_features = create_features(img)\n",
        "        features_list.append(image_features)\n",
        "    # convert list of arrays into a matrix\n",
        "    feature_matrix = np.array(features_list)\n",
        "    return feature_matrix\n",
        "\n"
      ],
      "execution_count": 0,
      "outputs": []
    },
    {
      "cell_type": "code",
      "metadata": {
        "id": "5gPcir36PphC",
        "colab_type": "code",
        "colab": {}
      },
      "source": [
        "# run create_feature_matrix on our dataframe of images\n",
        "feature_matrix = create_feature_matrix(labels)"
      ],
      "execution_count": 0,
      "outputs": []
    },
    {
      "cell_type": "code",
      "metadata": {
        "id": "BejoqUo1Ncjq",
        "colab_type": "code",
        "colab": {}
      },
      "source": [
        "ss = StandardScaler()\n",
        "# run this on our feature matrix\n",
        "fleur_stand = ss.fit_transform(feature_matrix)\n",
        "\n",
        "pca = PCA(n_components=500)\n",
        "# use fit_transform to run PCA on our standardized matrix\n",
        "fleur_pca = ss.fit_transform(fleur_stand)"
      ],
      "execution_count": 0,
      "outputs": []
    },
    {
      "cell_type": "code",
      "metadata": {
        "id": "VUsYrW3YNhQs",
        "colab_type": "code",
        "outputId": "44b9fc2c-6a1b-48c7-8223-3abdd2925687",
        "colab": {
          "base_uri": "https://localhost:8080/",
          "height": 119
        }
      },
      "source": [
        "X = pd.DataFrame(fleur_pca)\n",
        "y = pd.Series(labels.species.values)\n",
        "X_train, X_test, y_train, y_test = train_test_split(X,\n",
        "                                                    y,\n",
        "                                                    test_size=.3,\n",
        "                                                    random_state=42)\n",
        "\n",
        "# look at the distrubution of labels in the train set\n",
        "pd.Series(y_train).value_counts()"
      ],
      "execution_count": 10,
      "outputs": [
        {
          "output_type": "execute_result",
          "data": {
            "text/plain": [
              "Pink_Primrose       160\n",
              "Common_Dandelion    121\n",
              "Bird_of_paradise     73\n",
              "Balloon_Flower       67\n",
              "King_Protea          23\n",
              "dtype: int64"
            ]
          },
          "metadata": {
            "tags": []
          },
          "execution_count": 10
        }
      ]
    },
    {
      "cell_type": "code",
      "metadata": {
        "id": "NgD6QO8DNhQL",
        "colab_type": "code",
        "colab": {
          "base_uri": "https://localhost:8080/",
          "height": 85
        },
        "outputId": "881f9c1e-7f5b-4289-a837-2764e572ccb9"
      },
      "source": [
        "svm = SVC(kernel='linear', C= float('inf'),probability=True)\n",
        "\n",
        "svm.fit(X_train, y_train)"
      ],
      "execution_count": 11,
      "outputs": [
        {
          "output_type": "execute_result",
          "data": {
            "text/plain": [
              "SVC(C=inf, break_ties=False, cache_size=200, class_weight=None, coef0=0.0,\n",
              "    decision_function_shape='ovr', degree=3, gamma='scale', kernel='linear',\n",
              "    max_iter=-1, probability=True, random_state=None, shrinking=True, tol=0.001,\n",
              "    verbose=False)"
            ]
          },
          "metadata": {
            "tags": []
          },
          "execution_count": 11
        }
      ]
    },
    {
      "cell_type": "code",
      "metadata": {
        "id": "I42hzfFWPBL3",
        "colab_type": "code",
        "colab": {
          "base_uri": "https://localhost:8080/",
          "height": 34
        },
        "outputId": "c053bf09-a391-443b-9374-087a8776ae3a"
      },
      "source": [
        "y_pred = svm.predict(X_test)\n",
        "accuracy = accuracy_score(y_test, y_pred)\n",
        "print('Model accuracy is: ', accuracy)"
      ],
      "execution_count": 12,
      "outputs": [
        {
          "output_type": "stream",
          "text": [
            "Model accuracy is:  0.8429319371727748\n"
          ],
          "name": "stdout"
        }
      ]
    }
  ]
}